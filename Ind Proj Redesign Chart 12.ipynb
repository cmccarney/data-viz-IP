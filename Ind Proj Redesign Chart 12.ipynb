{
 "cells": [
  {
   "cell_type": "markdown",
   "metadata": {},
   "source": [
    "# Vox Chart 12 Redesign"
   ]
  },
  {
   "cell_type": "markdown",
   "metadata": {},
   "source": [
    "### by Constance McCarney"
   ]
  },
  {
   "attachments": {},
   "cell_type": "markdown",
   "metadata": {},
   "source": [
    "Chart 12 is comparing the mortality rate among three methods of suicide. The graphs convey this meaning well, but the limitations of the data undermine the applicability of the claim. The original graphs compare methods of injury from firearms, cutting, and poisoning from Indiana during the years 1990-1997. So my redesign of this graphic I have gathered information from the CDC's WISQARS tool on self-inflicted fatal and non-fatal injuries in all US from 2001 to 2016."
   ]
  },
  {
   "cell_type": "markdown",
   "metadata": {},
   "source": [
    "## Data"
   ]
  },
  {
   "cell_type": "code",
   "execution_count": 1,
   "metadata": {},
   "outputs": [
    {
     "name": "stdout",
     "output_type": "stream",
     "text": [
      "Populating the interactive namespace from numpy and matplotlib\n"
     ]
    },
    {
     "data": {
      "application/javascript": [
       "IPython.notebook.set_autosave_interval(0)"
      ]
     },
     "metadata": {},
     "output_type": "display_data"
    },
    {
     "name": "stdout",
     "output_type": "stream",
     "text": [
      "Autosave disabled\n"
     ]
    }
   ],
   "source": [
    "# print all the outputs in a cell\n",
    "from IPython.core.interactiveshell import InteractiveShell\n",
    "InteractiveShell.ast_node_interactivity = \"all\"\n",
    "\n",
    "import seaborn as sns\n",
    "import pandas as pd\n",
    "import numpy as np\n",
    "%pylab inline\n",
    "\n",
    "%autosave 0"
   ]
  },
  {
   "cell_type": "code",
   "execution_count": 2,
   "metadata": {},
   "outputs": [],
   "source": [
    "data = pd.read_csv('WISQARS.csv')"
   ]
  },
  {
   "cell_type": "code",
   "execution_count": 3,
   "metadata": {},
   "outputs": [
    {
     "data": {
      "text/html": [
       "<div>\n",
       "<style scoped>\n",
       "    .dataframe tbody tr th:only-of-type {\n",
       "        vertical-align: middle;\n",
       "    }\n",
       "\n",
       "    .dataframe tbody tr th {\n",
       "        vertical-align: top;\n",
       "    }\n",
       "\n",
       "    .dataframe thead th {\n",
       "        text-align: right;\n",
       "    }\n",
       "</style>\n",
       "<table border=\"1\" class=\"dataframe\">\n",
       "  <thead>\n",
       "    <tr style=\"text-align: right;\">\n",
       "      <th></th>\n",
       "      <th>Year</th>\n",
       "      <th>Fatal</th>\n",
       "      <th>Intent</th>\n",
       "      <th>Injury</th>\n",
       "      <th>Counts</th>\n",
       "      <th>Population</th>\n",
       "      <th>Crude Rate</th>\n",
       "      <th>Age-Adjusted Rate</th>\n",
       "    </tr>\n",
       "  </thead>\n",
       "  <tbody>\n",
       "    <tr>\n",
       "      <th>0</th>\n",
       "      <td>2001</td>\n",
       "      <td>1</td>\n",
       "      <td>Suicide</td>\n",
       "      <td>Cut/Pierce</td>\n",
       "      <td>458</td>\n",
       "      <td>284968955</td>\n",
       "      <td>0.16</td>\n",
       "      <td>0.160644</td>\n",
       "    </tr>\n",
       "    <tr>\n",
       "      <th>1</th>\n",
       "      <td>2002</td>\n",
       "      <td>1</td>\n",
       "      <td>Suicide</td>\n",
       "      <td>Cut/Pierce</td>\n",
       "      <td>566</td>\n",
       "      <td>287625193</td>\n",
       "      <td>0.20</td>\n",
       "      <td>0.195807</td>\n",
       "    </tr>\n",
       "    <tr>\n",
       "      <th>2</th>\n",
       "      <td>2003</td>\n",
       "      <td>1</td>\n",
       "      <td>Suicide</td>\n",
       "      <td>Cut/Pierce</td>\n",
       "      <td>571</td>\n",
       "      <td>290107933</td>\n",
       "      <td>0.20</td>\n",
       "      <td>0.194523</td>\n",
       "    </tr>\n",
       "    <tr>\n",
       "      <th>3</th>\n",
       "      <td>2004</td>\n",
       "      <td>1</td>\n",
       "      <td>Suicide</td>\n",
       "      <td>Cut/Pierce</td>\n",
       "      <td>590</td>\n",
       "      <td>292805298</td>\n",
       "      <td>0.20</td>\n",
       "      <td>0.197895</td>\n",
       "    </tr>\n",
       "    <tr>\n",
       "      <th>4</th>\n",
       "      <td>2005</td>\n",
       "      <td>1</td>\n",
       "      <td>Suicide</td>\n",
       "      <td>Cut/Pierce</td>\n",
       "      <td>590</td>\n",
       "      <td>295516599</td>\n",
       "      <td>0.20</td>\n",
       "      <td>0.196674</td>\n",
       "    </tr>\n",
       "  </tbody>\n",
       "</table>\n",
       "</div>"
      ],
      "text/plain": [
       "   Year  Fatal   Intent      Injury  Counts  Population  Crude Rate  \\\n",
       "0  2001      1  Suicide  Cut/Pierce     458   284968955        0.16   \n",
       "1  2002      1  Suicide  Cut/Pierce     566   287625193        0.20   \n",
       "2  2003      1  Suicide  Cut/Pierce     571   290107933        0.20   \n",
       "3  2004      1  Suicide  Cut/Pierce     590   292805298        0.20   \n",
       "4  2005      1  Suicide  Cut/Pierce     590   295516599        0.20   \n",
       "\n",
       "   Age-Adjusted Rate  \n",
       "0           0.160644  \n",
       "1           0.195807  \n",
       "2           0.194523  \n",
       "3           0.197895  \n",
       "4           0.196674  "
      ]
     },
     "execution_count": 3,
     "metadata": {},
     "output_type": "execute_result"
    }
   ],
   "source": [
    "data.head()"
   ]
  },
  {
   "cell_type": "code",
   "execution_count": 4,
   "metadata": {},
   "outputs": [],
   "source": [
    "df = data.groupby(['Injury','Fatal']).mean().reset_index()\n",
    "df.drop(['Year'],axis=1,inplace=True)"
   ]
  },
  {
   "cell_type": "code",
   "execution_count": 5,
   "metadata": {
    "scrolled": true
   },
   "outputs": [
    {
     "data": {
      "text/html": [
       "<div>\n",
       "<style scoped>\n",
       "    .dataframe tbody tr th:only-of-type {\n",
       "        vertical-align: middle;\n",
       "    }\n",
       "\n",
       "    .dataframe tbody tr th {\n",
       "        vertical-align: top;\n",
       "    }\n",
       "\n",
       "    .dataframe thead th {\n",
       "        text-align: right;\n",
       "    }\n",
       "</style>\n",
       "<table border=\"1\" class=\"dataframe\">\n",
       "  <thead>\n",
       "    <tr style=\"text-align: right;\">\n",
       "      <th></th>\n",
       "      <th>Injury</th>\n",
       "      <th>Fatal</th>\n",
       "      <th>Counts</th>\n",
       "      <th>Population</th>\n",
       "      <th>Crude Rate</th>\n",
       "      <th>Age-Adjusted Rate</th>\n",
       "    </tr>\n",
       "  </thead>\n",
       "  <tbody>\n",
       "    <tr>\n",
       "      <th>0</th>\n",
       "      <td>Cut/Pierce</td>\n",
       "      <td>0</td>\n",
       "      <td>88707.8125</td>\n",
       "      <td>3.046688e+08</td>\n",
       "      <td>28.936250</td>\n",
       "      <td>29.518009</td>\n",
       "    </tr>\n",
       "    <tr>\n",
       "      <th>1</th>\n",
       "      <td>Cut/Pierce</td>\n",
       "      <td>1</td>\n",
       "      <td>658.7500</td>\n",
       "      <td>3.046689e+08</td>\n",
       "      <td>0.216250</td>\n",
       "      <td>0.206948</td>\n",
       "    </tr>\n",
       "    <tr>\n",
       "      <th>2</th>\n",
       "      <td>Firearm</td>\n",
       "      <td>0</td>\n",
       "      <td>3654.5625</td>\n",
       "      <td>3.046688e+08</td>\n",
       "      <td>1.197500</td>\n",
       "      <td>1.173287</td>\n",
       "    </tr>\n",
       "    <tr>\n",
       "      <th>3</th>\n",
       "      <td>Firearm</td>\n",
       "      <td>1</td>\n",
       "      <td>18962.1250</td>\n",
       "      <td>3.046689e+08</td>\n",
       "      <td>6.208125</td>\n",
       "      <td>6.014984</td>\n",
       "    </tr>\n",
       "    <tr>\n",
       "      <th>4</th>\n",
       "      <td>Poisoning</td>\n",
       "      <td>0</td>\n",
       "      <td>240932.6250</td>\n",
       "      <td>3.046688e+08</td>\n",
       "      <td>79.043750</td>\n",
       "      <td>79.966442</td>\n",
       "    </tr>\n",
       "    <tr>\n",
       "      <th>5</th>\n",
       "      <td>Poisoning</td>\n",
       "      <td>1</td>\n",
       "      <td>6240.0625</td>\n",
       "      <td>3.046689e+08</td>\n",
       "      <td>2.045000</td>\n",
       "      <td>1.986753</td>\n",
       "    </tr>\n",
       "    <tr>\n",
       "      <th>6</th>\n",
       "      <td>Suffocation</td>\n",
       "      <td>0</td>\n",
       "      <td>2688.7500</td>\n",
       "      <td>3.046688e+08</td>\n",
       "      <td>0.877500</td>\n",
       "      <td>0.890133</td>\n",
       "    </tr>\n",
       "    <tr>\n",
       "      <th>7</th>\n",
       "      <td>Suffocation</td>\n",
       "      <td>1</td>\n",
       "      <td>8848.0625</td>\n",
       "      <td>3.046689e+08</td>\n",
       "      <td>2.884375</td>\n",
       "      <td>2.885380</td>\n",
       "    </tr>\n",
       "  </tbody>\n",
       "</table>\n",
       "</div>"
      ],
      "text/plain": [
       "        Injury  Fatal       Counts    Population  Crude Rate  \\\n",
       "0   Cut/Pierce      0   88707.8125  3.046688e+08   28.936250   \n",
       "1   Cut/Pierce      1     658.7500  3.046689e+08    0.216250   \n",
       "2      Firearm      0    3654.5625  3.046688e+08    1.197500   \n",
       "3      Firearm      1   18962.1250  3.046689e+08    6.208125   \n",
       "4    Poisoning      0  240932.6250  3.046688e+08   79.043750   \n",
       "5    Poisoning      1    6240.0625  3.046689e+08    2.045000   \n",
       "6  Suffocation      0    2688.7500  3.046688e+08    0.877500   \n",
       "7  Suffocation      1    8848.0625  3.046689e+08    2.884375   \n",
       "\n",
       "   Age-Adjusted Rate  \n",
       "0          29.518009  \n",
       "1           0.206948  \n",
       "2           1.173287  \n",
       "3           6.014984  \n",
       "4          79.966442  \n",
       "5           1.986753  \n",
       "6           0.890133  \n",
       "7           2.885380  "
      ]
     },
     "execution_count": 5,
     "metadata": {},
     "output_type": "execute_result"
    }
   ],
   "source": [
    "df"
   ]
  },
  {
   "cell_type": "markdown",
   "metadata": {},
   "source": [
    "## New Visuals"
   ]
  },
  {
   "cell_type": "markdown",
   "metadata": {},
   "source": [
    "At this point, the main advantage of the new visual is really just in its validity. It represents data from all 50 states over the years 2001-2016. The inclusion of suffocation methods also helps show that we are talking about lethality of a method. Still, the visual itself needs to be modified to better demonstrate the parts to whole argument. This will be worked on over the course of the semester."
   ]
  },
  {
   "cell_type": "code",
   "execution_count": 6,
   "metadata": {
    "scrolled": true
   },
   "outputs": [
    {
     "data": {
      "text/plain": [
       "<seaborn.axisgrid.FacetGrid at 0x16577f9ea58>"
      ]
     },
     "execution_count": 6,
     "metadata": {},
     "output_type": "execute_result"
    },
    {
     "data": {
      "image/png": "[encoded data removed]",
      "text/plain": [
       "<matplotlib.figure.Figure at 0x16577f9e748>"
      ]
     },
     "metadata": {},
     "output_type": "display_data"
    }
   ],
   "source": [
    "sns.factorplot(x='Injury', y='Age-Adjusted Rate',hue='Fatal', data=df, kind='bar',aspect=2)"
   ]
  },
  {
   "cell_type": "markdown",
   "metadata": {},
   "source": [
    "## References"
   ]
  },
  {
   "cell_type": "markdown",
   "metadata": {},
   "source": [
    "CDC National Center for Injury Prevention and Control. WISQARS™ (Web-based Injury Statistics Query and Reporting System). https://www.cdc.gov/injury/wisqars/index.html\n",
    "\n",
    "Lopez, George. \"America’s unique gun violence problem, explained in 17 maps and charts.\" Vox.com. Accessed May 5, 2018.\n",
    "https://www.vox.com/policy-and-politics/2017/10/2/16399418/us-gun-violence-statistics-maps-charts"
   ]
  }
 ],
 "metadata": {
  "kernelspec": {
   "display_name": "Python 3",
   "language": "python",
   "name": "python3"
  },
  "language_info": {
   "codemirror_mode": {
    "name": "ipython",
    "version": 3
   },
   "file_extension": ".py",
   "mimetype": "text/x-python",
   "name": "python",
   "nbconvert_exporter": "python",
   "pygments_lexer": "ipython3",
   "version": "3.6.4"
  }
 },
 "nbformat": 4,
 "nbformat_minor": 2
}
