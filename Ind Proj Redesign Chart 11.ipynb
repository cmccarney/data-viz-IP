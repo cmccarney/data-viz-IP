{
 "cells": [
  {
   "cell_type": "markdown",
   "metadata": {},
   "source": [
    "# Vox Chart 11 Redesign"
   ]
  },
  {
   "cell_type": "markdown",
   "metadata": {},
   "source": [
    "### by Constance McCarney"
   ]
  },
  {
   "attachments": {},
   "cell_type": "markdown",
   "metadata": {},
   "source": [
    "Chart 11 is comparing the rates of suicide by means of firearms or non-firearms as grouped by states with high or low rates of gun ownership. The argument the graph is making is a little unclear. It shows that suicides by firearms are higher in states with greater gun ownership but, it also seems to be making a statement about suicide rates in general between the two sets of states. So the graph is introducing a confounding variable  by suggesting some characteristic of high gun ownership states that also creates a high suicide rate.\n",
    "\n",
    "The original data source comes from a table in Miller 2008 that has set values for the different categories. The high gun ownership states are simply defined, based on information from 2001, but no definitions of high and low are given. So from another data source referenced in the Vox article, a study done in 2013 by Kalesan, et al, I've gathered percentages of gun owners in each state. Combining this information with overall suicide rates by means of firearms and and non-firearms in 2013 as gathered from the CDC Wonder tool allows the murkiness of the original graphic to be tested against more recent information and to be clarified."
   ]
  },
  {
   "cell_type": "markdown",
   "metadata": {},
   "source": [
    "##  Data"
   ]
  },
  {
   "cell_type": "code",
   "execution_count": 3,
   "metadata": {
    "scrolled": true
   },
   "outputs": [
    {
     "name": "stdout",
     "output_type": "stream",
     "text": [
      "Populating the interactive namespace from numpy and matplotlib\n"
     ]
    },
    {
     "data": {
      "application/javascript": [
       "IPython.notebook.set_autosave_interval(0)"
      ]
     },
     "metadata": {},
     "output_type": "display_data"
    },
    {
     "name": "stdout",
     "output_type": "stream",
     "text": [
      "Autosave disabled\n"
     ]
    }
   ],
   "source": [
    "# print all the outputs in a cell\n",
    "from IPython.core.interactiveshell import InteractiveShell\n",
    "InteractiveShell.ast_node_interactivity = \"all\"\n",
    "\n",
    "import seaborn as sns\n",
    "import pandas as pd\n",
    "import numpy as np\n",
    "%pylab inline\n",
    "\n",
    "%autosave 0"
   ]
  },
  {
   "cell_type": "code",
   "execution_count": 4,
   "metadata": {},
   "outputs": [],
   "source": [
    "own = pd.read_csv('State Gun Ownership Rate 2013.csv')"
   ]
  },
  {
   "cell_type": "code",
   "execution_count": 5,
   "metadata": {
    "scrolled": true
   },
   "outputs": [
    {
     "data": {
      "text/html": [
       "<div>\n",
       "<style scoped>\n",
       "    .dataframe tbody tr th:only-of-type {\n",
       "        vertical-align: middle;\n",
       "    }\n",
       "\n",
       "    .dataframe tbody tr th {\n",
       "        vertical-align: top;\n",
       "    }\n",
       "\n",
       "    .dataframe thead th {\n",
       "        text-align: right;\n",
       "    }\n",
       "</style>\n",
       "<table border=\"1\" class=\"dataframe\">\n",
       "  <thead>\n",
       "    <tr style=\"text-align: right;\">\n",
       "      <th></th>\n",
       "      <th>State</th>\n",
       "      <th>Year</th>\n",
       "      <th>Ownership Ratio</th>\n",
       "      <th>Population</th>\n",
       "      <th>2001 Low</th>\n",
       "      <th>2001 High</th>\n",
       "    </tr>\n",
       "  </thead>\n",
       "  <tbody>\n",
       "    <tr>\n",
       "      <th>0</th>\n",
       "      <td>Alaska</td>\n",
       "      <td>2013</td>\n",
       "      <td>0.617</td>\n",
       "      <td>735132</td>\n",
       "      <td>0</td>\n",
       "      <td>1</td>\n",
       "    </tr>\n",
       "    <tr>\n",
       "      <th>1</th>\n",
       "      <td>Arkansas</td>\n",
       "      <td>2013</td>\n",
       "      <td>0.579</td>\n",
       "      <td>2959373</td>\n",
       "      <td>0</td>\n",
       "      <td>1</td>\n",
       "    </tr>\n",
       "    <tr>\n",
       "      <th>2</th>\n",
       "      <td>West Virginia</td>\n",
       "      <td>2013</td>\n",
       "      <td>0.542</td>\n",
       "      <td>1854304</td>\n",
       "      <td>0</td>\n",
       "      <td>1</td>\n",
       "    </tr>\n",
       "    <tr>\n",
       "      <th>3</th>\n",
       "      <td>Wyoming</td>\n",
       "      <td>2013</td>\n",
       "      <td>0.538</td>\n",
       "      <td>582658</td>\n",
       "      <td>0</td>\n",
       "      <td>1</td>\n",
       "    </tr>\n",
       "    <tr>\n",
       "      <th>4</th>\n",
       "      <td>Montana</td>\n",
       "      <td>2013</td>\n",
       "      <td>0.523</td>\n",
       "      <td>1015165</td>\n",
       "      <td>0</td>\n",
       "      <td>1</td>\n",
       "    </tr>\n",
       "  </tbody>\n",
       "</table>\n",
       "</div>"
      ],
      "text/plain": [
       "           State  Year  Ownership Ratio  Population  2001 Low  2001 High\n",
       "0         Alaska  2013            0.617      735132         0          1\n",
       "1       Arkansas  2013            0.579     2959373         0          1\n",
       "2  West Virginia  2013            0.542     1854304         0          1\n",
       "3        Wyoming  2013            0.538      582658         0          1\n",
       "4        Montana  2013            0.523     1015165         0          1"
      ]
     },
     "execution_count": 5,
     "metadata": {},
     "output_type": "execute_result"
    }
   ],
   "source": [
    "own.head()"
   ]
  },
  {
   "cell_type": "code",
   "execution_count": 6,
   "metadata": {},
   "outputs": [],
   "source": [
    "deaths = pd.read_csv('CDC_Suicides.csv')"
   ]
  },
  {
   "cell_type": "code",
   "execution_count": 7,
   "metadata": {
    "scrolled": true
   },
   "outputs": [
    {
     "data": {
      "text/html": [
       "<div>\n",
       "<style scoped>\n",
       "    .dataframe tbody tr th:only-of-type {\n",
       "        vertical-align: middle;\n",
       "    }\n",
       "\n",
       "    .dataframe tbody tr th {\n",
       "        vertical-align: top;\n",
       "    }\n",
       "\n",
       "    .dataframe thead th {\n",
       "        text-align: right;\n",
       "    }\n",
       "</style>\n",
       "<table border=\"1\" class=\"dataframe\">\n",
       "  <thead>\n",
       "    <tr style=\"text-align: right;\">\n",
       "      <th></th>\n",
       "      <th>State</th>\n",
       "      <th>Year</th>\n",
       "      <th>Population</th>\n",
       "      <th>Fdeaths</th>\n",
       "      <th>FCrude Rate</th>\n",
       "      <th>FAge Adjusted Rate</th>\n",
       "      <th>NFDeaths</th>\n",
       "      <th>NFCrude Rate</th>\n",
       "      <th>NFAge Adjusted Rate</th>\n",
       "    </tr>\n",
       "  </thead>\n",
       "  <tbody>\n",
       "    <tr>\n",
       "      <th>0</th>\n",
       "      <td>Alabama</td>\n",
       "      <td>2001</td>\n",
       "      <td>4467634</td>\n",
       "      <td>387</td>\n",
       "      <td>8.66230</td>\n",
       "      <td>8.56569</td>\n",
       "      <td>125</td>\n",
       "      <td>2.79790</td>\n",
       "      <td>2.81160</td>\n",
       "    </tr>\n",
       "    <tr>\n",
       "      <th>1</th>\n",
       "      <td>Alabama</td>\n",
       "      <td>2002</td>\n",
       "      <td>4480089</td>\n",
       "      <td>381</td>\n",
       "      <td>8.50430</td>\n",
       "      <td>8.45582</td>\n",
       "      <td>133</td>\n",
       "      <td>2.96869</td>\n",
       "      <td>3.01729</td>\n",
       "    </tr>\n",
       "    <tr>\n",
       "      <th>2</th>\n",
       "      <td>Alabama</td>\n",
       "      <td>2003</td>\n",
       "      <td>4503491</td>\n",
       "      <td>399</td>\n",
       "      <td>8.85979</td>\n",
       "      <td>8.71749</td>\n",
       "      <td>122</td>\n",
       "      <td>2.70901</td>\n",
       "      <td>2.73791</td>\n",
       "    </tr>\n",
       "    <tr>\n",
       "      <th>3</th>\n",
       "      <td>Alabama</td>\n",
       "      <td>2004</td>\n",
       "      <td>4530729</td>\n",
       "      <td>375</td>\n",
       "      <td>8.27681</td>\n",
       "      <td>8.02271</td>\n",
       "      <td>166</td>\n",
       "      <td>3.66387</td>\n",
       "      <td>3.71584</td>\n",
       "    </tr>\n",
       "    <tr>\n",
       "      <th>4</th>\n",
       "      <td>Alabama</td>\n",
       "      <td>2005</td>\n",
       "      <td>4569805</td>\n",
       "      <td>369</td>\n",
       "      <td>8.07474</td>\n",
       "      <td>7.84921</td>\n",
       "      <td>166</td>\n",
       "      <td>3.63254</td>\n",
       "      <td>3.68095</td>\n",
       "    </tr>\n",
       "  </tbody>\n",
       "</table>\n",
       "</div>"
      ],
      "text/plain": [
       "     State  Year  Population  Fdeaths  FCrude Rate  FAge Adjusted Rate  \\\n",
       "0  Alabama  2001     4467634      387      8.66230             8.56569   \n",
       "1  Alabama  2002     4480089      381      8.50430             8.45582   \n",
       "2  Alabama  2003     4503491      399      8.85979             8.71749   \n",
       "3  Alabama  2004     4530729      375      8.27681             8.02271   \n",
       "4  Alabama  2005     4569805      369      8.07474             7.84921   \n",
       "\n",
       "   NFDeaths  NFCrude Rate  NFAge Adjusted Rate  \n",
       "0       125       2.79790              2.81160  \n",
       "1       133       2.96869              3.01729  \n",
       "2       122       2.70901              2.73791  \n",
       "3       166       3.66387              3.71584  \n",
       "4       166       3.63254              3.68095  "
      ]
     },
     "execution_count": 7,
     "metadata": {},
     "output_type": "execute_result"
    }
   ],
   "source": [
    "deaths.head()"
   ]
  },
  {
   "cell_type": "code",
   "execution_count": 8,
   "metadata": {},
   "outputs": [],
   "source": [
    "deaths13 = deaths[(deaths.Year == 2013)]"
   ]
  },
  {
   "cell_type": "code",
   "execution_count": 9,
   "metadata": {},
   "outputs": [],
   "source": [
    "df = deaths13.merge(own, how='left').drop(['2001 Low','2001 High'], axis = 1)"
   ]
  },
  {
   "cell_type": "code",
   "execution_count": 10,
   "metadata": {},
   "outputs": [
    {
     "data": {
      "text/html": [
       "<div>\n",
       "<style scoped>\n",
       "    .dataframe tbody tr th:only-of-type {\n",
       "        vertical-align: middle;\n",
       "    }\n",
       "\n",
       "    .dataframe tbody tr th {\n",
       "        vertical-align: top;\n",
       "    }\n",
       "\n",
       "    .dataframe thead th {\n",
       "        text-align: right;\n",
       "    }\n",
       "</style>\n",
       "<table border=\"1\" class=\"dataframe\">\n",
       "  <thead>\n",
       "    <tr style=\"text-align: right;\">\n",
       "      <th></th>\n",
       "      <th>State</th>\n",
       "      <th>Year</th>\n",
       "      <th>Population</th>\n",
       "      <th>Fdeaths</th>\n",
       "      <th>FCrude Rate</th>\n",
       "      <th>FAge Adjusted Rate</th>\n",
       "      <th>NFDeaths</th>\n",
       "      <th>NFCrude Rate</th>\n",
       "      <th>NFAge Adjusted Rate</th>\n",
       "      <th>Ownership Ratio</th>\n",
       "    </tr>\n",
       "  </thead>\n",
       "  <tbody>\n",
       "    <tr>\n",
       "      <th>0</th>\n",
       "      <td>Alabama</td>\n",
       "      <td>2013</td>\n",
       "      <td>4833722</td>\n",
       "      <td>504</td>\n",
       "      <td>10.42675</td>\n",
       "      <td>9.89351</td>\n",
       "      <td>217</td>\n",
       "      <td>4.48929</td>\n",
       "      <td>4.50262</td>\n",
       "      <td>0.489</td>\n",
       "    </tr>\n",
       "    <tr>\n",
       "      <th>1</th>\n",
       "      <td>Alaska</td>\n",
       "      <td>2013</td>\n",
       "      <td>735132</td>\n",
       "      <td>120</td>\n",
       "      <td>16.32360</td>\n",
       "      <td>16.71218</td>\n",
       "      <td>51</td>\n",
       "      <td>6.93753</td>\n",
       "      <td>6.40722</td>\n",
       "      <td>0.617</td>\n",
       "    </tr>\n",
       "    <tr>\n",
       "      <th>2</th>\n",
       "      <td>Arizona</td>\n",
       "      <td>2013</td>\n",
       "      <td>6626624</td>\n",
       "      <td>655</td>\n",
       "      <td>9.88437</td>\n",
       "      <td>9.73540</td>\n",
       "      <td>508</td>\n",
       "      <td>7.66605</td>\n",
       "      <td>7.78321</td>\n",
       "      <td>0.323</td>\n",
       "    </tr>\n",
       "    <tr>\n",
       "      <th>3</th>\n",
       "      <td>Arkansas</td>\n",
       "      <td>2013</td>\n",
       "      <td>2959373</td>\n",
       "      <td>322</td>\n",
       "      <td>10.88068</td>\n",
       "      <td>10.58134</td>\n",
       "      <td>194</td>\n",
       "      <td>6.55544</td>\n",
       "      <td>6.75966</td>\n",
       "      <td>0.579</td>\n",
       "    </tr>\n",
       "    <tr>\n",
       "      <th>4</th>\n",
       "      <td>California</td>\n",
       "      <td>2013</td>\n",
       "      <td>38332521</td>\n",
       "      <td>1571</td>\n",
       "      <td>4.09835</td>\n",
       "      <td>3.97364</td>\n",
       "      <td>2454</td>\n",
       "      <td>6.40187</td>\n",
       "      <td>6.23460</td>\n",
       "      <td>0.201</td>\n",
       "    </tr>\n",
       "  </tbody>\n",
       "</table>\n",
       "</div>"
      ],
      "text/plain": [
       "        State  Year  Population  Fdeaths  FCrude Rate  FAge Adjusted Rate  \\\n",
       "0     Alabama  2013     4833722      504     10.42675             9.89351   \n",
       "1      Alaska  2013      735132      120     16.32360            16.71218   \n",
       "2     Arizona  2013     6626624      655      9.88437             9.73540   \n",
       "3    Arkansas  2013     2959373      322     10.88068            10.58134   \n",
       "4  California  2013    38332521     1571      4.09835             3.97364   \n",
       "\n",
       "   NFDeaths  NFCrude Rate  NFAge Adjusted Rate  Ownership Ratio  \n",
       "0       217       4.48929              4.50262            0.489  \n",
       "1        51       6.93753              6.40722            0.617  \n",
       "2       508       7.66605              7.78321            0.323  \n",
       "3       194       6.55544              6.75966            0.579  \n",
       "4      2454       6.40187              6.23460            0.201  "
      ]
     },
     "execution_count": 10,
     "metadata": {},
     "output_type": "execute_result"
    }
   ],
   "source": [
    "df.head()"
   ]
  },
  {
   "cell_type": "markdown",
   "metadata": {},
   "source": [
    "##  New Visuals"
   ]
  },
  {
   "cell_type": "markdown",
   "metadata": {},
   "source": [
    "So by plotting Firearm suicide rate per 100,000 against the percent of gun owners in each state, we clearly see the relationship between percentage of gun owners, (and by extension prevalence of guns) and suicides by firearms. High gun ownership states have high gun suicide rates, whereas low gun ownership states have lower suicide by firearms rates.\n",
    "But what if this were simply explained by higher suicide rates overall in these high gun ownership states? The second graph plots the Non-Firarm suicide rate per 100,000 against the percent of gun owners in each state. The regression line here is flat, demonstrating no particular relationship between suicides without firearms and the rate of gun ownership. So here we have more clearly demonstrated, as opposed to the original graph, that high firearm suicide rates are connected to gun ownership.\n",
    "Future graph iterations will better combine these plots so the comparisons are easier to make."
   ]
  },
  {
   "cell_type": "code",
   "execution_count": 13,
   "metadata": {},
   "outputs": [
    {
     "data": {
      "text/plain": [
       "<matplotlib.axes._subplots.AxesSubplot at 0x1f6e66ab908>"
      ]
     },
     "execution_count": 13,
     "metadata": {},
     "output_type": "execute_result"
    },
    {
     "data": {
      "image/png": "[encoded data removed]",
      "text/plain": [
       "<matplotlib.figure.Figure at 0x1f6e6580160>"
      ]
     },
     "metadata": {},
     "output_type": "display_data"
    }
   ],
   "source": [
    "sns.regplot(x='Ownership Ratio', y='FAge Adjusted Rate', data=df)"
   ]
  },
  {
   "cell_type": "code",
   "execution_count": 12,
   "metadata": {
    "scrolled": true
   },
   "outputs": [
    {
     "data": {
      "text/plain": [
       "<matplotlib.axes._subplots.AxesSubplot at 0x1f6e6580ac8>"
      ]
     },
     "execution_count": 12,
     "metadata": {},
     "output_type": "execute_result"
    },
    {
     "data": {
      "image/png": "[encoded data removed]",
      "text/plain": [
       "<matplotlib.figure.Figure at 0x1f6e6580358>"
      ]
     },
     "metadata": {},
     "output_type": "display_data"
    }
   ],
   "source": [
    "sns.regplot(x='Ownership Ratio', y='NFAge Adjusted Rate', data=df)"
   ]
  },
  {
   "cell_type": "markdown",
   "metadata": {},
   "source": [
    "##  References"
   ]
  },
  {
   "cell_type": "markdown",
   "metadata": {},
   "source": [
    "CDC National Center for Health Statistics (NCHS). Underlying Cause of Death 1999-2016. Saved request: https://wonder.cdc.gov/controller/saved/D76/D35F901\n",
    "\n",
    "Kalesan B, Villarreal MD, Keyes KM, et al Gun ownership and social gun culture Injury Prevention 2016;22:216-220. http://dx.doi.org/10.1136/injuryprev-2015-041586\n",
    "\n",
    "Lopez, George. \"America’s unique gun violence problem, explained in 17 maps and charts.\" Vox.com. Accessed May 5, 2018.\n",
    "https://www.vox.com/policy-and-politics/2017/10/2/16399418/us-gun-violence-statistics-maps-charts\n",
    "\n",
    "Miller, Matthew, M.D., Sc.D., and David Hemenway, Ph.D. Guns and Suicide in the United States. N Engl J Med 2008; 359:989-991. September 4, 2008. DOI: 10.1056/NEJMp0805923"
   ]
  }
 ],
 "metadata": {
  "kernelspec": {
   "display_name": "Python 3",
   "language": "python",
   "name": "python3"
  },
  "language_info": {
   "codemirror_mode": {
    "name": "ipython",
    "version": 3
   },
   "file_extension": ".py",
   "mimetype": "text/x-python",
   "name": "python",
   "nbconvert_exporter": "python",
   "pygments_lexer": "ipython3",
   "version": "3.6.4"
  }
 },
 "nbformat": 4,
 "nbformat_minor": 2
}
