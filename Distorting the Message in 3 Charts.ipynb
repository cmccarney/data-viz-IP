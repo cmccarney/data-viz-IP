{
 "cells": [
  {
   "cell_type": "markdown",
   "metadata": {},
   "source": [
    "# Using Graphical Misrepresentations to Mislead on Gun Violence"
   ]
  },
  {
   "cell_type": "markdown",
   "metadata": {},
   "source": [
    "by Constance McCarney"
   ]
  },
  {
   "cell_type": "markdown",
   "metadata": {},
   "source": [
    "This collection of graphs is inspired by an article on Vox.com by George Lopez which makes various arguments in favor of gun control using 17 data visualizations. The article is compelling and persuasive. Data gives a semblance of neutrality, an illusion of being neither for nor against any specific argument. But of course both sides of the gun control debate happily trot out charts and graphs intended to persuade the audience one way or the other. So the following visuals takes data on gun laws, deaths, suicides, etc. and creates arguments that contradict the idea that guns are a unique cause of unnecessary death and that we as a society can do something about it."
   ]
  },
  {
   "cell_type": "code",
   "execution_count": 47,
   "metadata": {},
   "outputs": [
    {
     "name": "stdout",
     "output_type": "stream",
     "text": [
      "Populating the interactive namespace from numpy and matplotlib\n"
     ]
    },
    {
     "data": {
      "application/javascript": [
       "IPython.notebook.set_autosave_interval(0)"
      ]
     },
     "metadata": {},
     "output_type": "display_data"
    },
    {
     "name": "stdout",
     "output_type": "stream",
     "text": [
      "Autosave disabled\n"
     ]
    }
   ],
   "source": [
    "from IPython.core.interactiveshell import InteractiveShell\n",
    "InteractiveShell.ast_node_interactivity = \"all\"\n",
    "\n",
    "\n",
    "import pandas as pd\n",
    "import numpy as np\n",
    "%pylab inline\n",
    "import seaborn as sns\n",
    "import altair as alt\n",
    "\n",
    "%autosave 0"
   ]
  },
  {
   "cell_type": "markdown",
   "metadata": {},
   "source": [
    "## 1. Guns are not the main method for attempting suicide"
   ]
  },
  {
   "cell_type": "markdown",
   "metadata": {},
   "source": [
    "The purpose of this graph is to confuse the connection between suicides and guns. My previous work on this topic showed that guns are responsible for a greater proportion of suicides, but not suicide attempts. This means that when a person tries to commit suicide using a gun, it is much more likely that the person will die than had the attempt been made by say, poisoning. Using the same dataset from the CDC's WISQARS tool on self-inflicted fatal and non-fatal injuries in all US from 2001 to 2016, I can imply a very different conclusion. "
   ]
  },
  {
   "cell_type": "markdown",
   "metadata": {},
   "source": [
    "### Data"
   ]
  },
  {
   "cell_type": "code",
   "execution_count": 48,
   "metadata": {},
   "outputs": [
    {
     "data": {
      "text/html": [
       "<div>\n",
       "<style scoped>\n",
       "    .dataframe tbody tr th:only-of-type {\n",
       "        vertical-align: middle;\n",
       "    }\n",
       "\n",
       "    .dataframe tbody tr th {\n",
       "        vertical-align: top;\n",
       "    }\n",
       "\n",
       "    .dataframe thead th {\n",
       "        text-align: right;\n",
       "    }\n",
       "</style>\n",
       "<table border=\"1\" class=\"dataframe\">\n",
       "  <thead>\n",
       "    <tr style=\"text-align: right;\">\n",
       "      <th></th>\n",
       "      <th>Year</th>\n",
       "      <th>Fatal</th>\n",
       "      <th>Intent</th>\n",
       "      <th>Injury</th>\n",
       "      <th>Counts</th>\n",
       "      <th>Population</th>\n",
       "      <th>Crude Rate</th>\n",
       "      <th>Age-Adjusted Rate</th>\n",
       "    </tr>\n",
       "  </thead>\n",
       "  <tbody>\n",
       "    <tr>\n",
       "      <th>0</th>\n",
       "      <td>2001</td>\n",
       "      <td>1</td>\n",
       "      <td>Suicide</td>\n",
       "      <td>Cut/Pierce</td>\n",
       "      <td>458</td>\n",
       "      <td>284968955</td>\n",
       "      <td>0.16</td>\n",
       "      <td>0.160644</td>\n",
       "    </tr>\n",
       "    <tr>\n",
       "      <th>1</th>\n",
       "      <td>2002</td>\n",
       "      <td>1</td>\n",
       "      <td>Suicide</td>\n",
       "      <td>Cut/Pierce</td>\n",
       "      <td>566</td>\n",
       "      <td>287625193</td>\n",
       "      <td>0.20</td>\n",
       "      <td>0.195807</td>\n",
       "    </tr>\n",
       "    <tr>\n",
       "      <th>2</th>\n",
       "      <td>2003</td>\n",
       "      <td>1</td>\n",
       "      <td>Suicide</td>\n",
       "      <td>Cut/Pierce</td>\n",
       "      <td>571</td>\n",
       "      <td>290107933</td>\n",
       "      <td>0.20</td>\n",
       "      <td>0.194523</td>\n",
       "    </tr>\n",
       "    <tr>\n",
       "      <th>3</th>\n",
       "      <td>2004</td>\n",
       "      <td>1</td>\n",
       "      <td>Suicide</td>\n",
       "      <td>Cut/Pierce</td>\n",
       "      <td>590</td>\n",
       "      <td>292805298</td>\n",
       "      <td>0.20</td>\n",
       "      <td>0.197895</td>\n",
       "    </tr>\n",
       "    <tr>\n",
       "      <th>4</th>\n",
       "      <td>2005</td>\n",
       "      <td>1</td>\n",
       "      <td>Suicide</td>\n",
       "      <td>Cut/Pierce</td>\n",
       "      <td>590</td>\n",
       "      <td>295516599</td>\n",
       "      <td>0.20</td>\n",
       "      <td>0.196674</td>\n",
       "    </tr>\n",
       "  </tbody>\n",
       "</table>\n",
       "</div>"
      ],
      "text/plain": [
       "   Year  Fatal   Intent      Injury  Counts  Population  Crude Rate  \\\n",
       "0  2001      1  Suicide  Cut/Pierce     458   284968955        0.16   \n",
       "1  2002      1  Suicide  Cut/Pierce     566   287625193        0.20   \n",
       "2  2003      1  Suicide  Cut/Pierce     571   290107933        0.20   \n",
       "3  2004      1  Suicide  Cut/Pierce     590   292805298        0.20   \n",
       "4  2005      1  Suicide  Cut/Pierce     590   295516599        0.20   \n",
       "\n",
       "   Age-Adjusted Rate  \n",
       "0           0.160644  \n",
       "1           0.195807  \n",
       "2           0.194523  \n",
       "3           0.197895  \n",
       "4           0.196674  "
      ]
     },
     "execution_count": 48,
     "metadata": {},
     "output_type": "execute_result"
    }
   ],
   "source": [
    "self = pd.read_csv('WISQARS.csv')\n",
    "self.head()"
   ]
  },
  {
   "cell_type": "markdown",
   "metadata": {},
   "source": [
    "My goal with this dataset is to compare the different injury methods to one another, so my first grouping will eliminate the distinction between fatal and non-fatal attempts and the second grouping will average the results over the years. Using the raw number of attempts as the point of comparison will be easier for the audience to understand than by using the standardized rate per 100,000."
   ]
  },
  {
   "cell_type": "code",
   "execution_count": 49,
   "metadata": {},
   "outputs": [
    {
     "data": {
      "text/html": [
       "<div>\n",
       "<style scoped>\n",
       "    .dataframe tbody tr th:only-of-type {\n",
       "        vertical-align: middle;\n",
       "    }\n",
       "\n",
       "    .dataframe tbody tr th {\n",
       "        vertical-align: top;\n",
       "    }\n",
       "\n",
       "    .dataframe thead th {\n",
       "        text-align: right;\n",
       "    }\n",
       "</style>\n",
       "<table border=\"1\" class=\"dataframe\">\n",
       "  <thead>\n",
       "    <tr style=\"text-align: right;\">\n",
       "      <th></th>\n",
       "      <th>Method of Self Injury</th>\n",
       "      <th>Fatal</th>\n",
       "      <th>Number of Attempts</th>\n",
       "      <th>Population</th>\n",
       "      <th>Crude Rate</th>\n",
       "      <th>Age-Adjusted Rate</th>\n",
       "    </tr>\n",
       "  </thead>\n",
       "  <tbody>\n",
       "    <tr>\n",
       "      <th>0</th>\n",
       "      <td>Cut/Pierce</td>\n",
       "      <td>1.0</td>\n",
       "      <td>89366.5625</td>\n",
       "      <td>6.093377e+08</td>\n",
       "      <td>29.152500</td>\n",
       "      <td>29.724957</td>\n",
       "    </tr>\n",
       "    <tr>\n",
       "      <th>1</th>\n",
       "      <td>Firearm</td>\n",
       "      <td>1.0</td>\n",
       "      <td>22616.6875</td>\n",
       "      <td>6.093377e+08</td>\n",
       "      <td>7.405625</td>\n",
       "      <td>7.188271</td>\n",
       "    </tr>\n",
       "    <tr>\n",
       "      <th>2</th>\n",
       "      <td>Poisoning</td>\n",
       "      <td>1.0</td>\n",
       "      <td>247172.6875</td>\n",
       "      <td>6.093377e+08</td>\n",
       "      <td>81.088750</td>\n",
       "      <td>81.953195</td>\n",
       "    </tr>\n",
       "    <tr>\n",
       "      <th>3</th>\n",
       "      <td>Suffocation</td>\n",
       "      <td>1.0</td>\n",
       "      <td>11536.8125</td>\n",
       "      <td>6.093377e+08</td>\n",
       "      <td>3.761875</td>\n",
       "      <td>3.775513</td>\n",
       "    </tr>\n",
       "  </tbody>\n",
       "</table>\n",
       "</div>"
      ],
      "text/plain": [
       "  Method of Self Injury  Fatal  Number of Attempts    Population  Crude Rate  \\\n",
       "0            Cut/Pierce    1.0          89366.5625  6.093377e+08   29.152500   \n",
       "1               Firearm    1.0          22616.6875  6.093377e+08    7.405625   \n",
       "2             Poisoning    1.0         247172.6875  6.093377e+08   81.088750   \n",
       "3           Suffocation    1.0          11536.8125  6.093377e+08    3.761875   \n",
       "\n",
       "   Age-Adjusted Rate  \n",
       "0          29.724957  \n",
       "1           7.188271  \n",
       "2          81.953195  \n",
       "3           3.775513  "
      ]
     },
     "execution_count": 49,
     "metadata": {},
     "output_type": "execute_result"
    }
   ],
   "source": [
    "self1 = self.groupby(['Year','Injury']).sum().groupby('Injury').mean().reset_index()\n",
    "self1.rename(columns={'Injury':'Method of Self Injury','Counts':'Number of Attempts'}, inplace=True)\n",
    "self1"
   ]
  },
  {
   "cell_type": "markdown",
   "metadata": {},
   "source": [
    "### Graph and Interpretation"
   ]
  },
  {
   "cell_type": "markdown",
   "metadata": {},
   "source": [
    "\"This graph shows the average annual number of suicide attempts in the US from 2001 to 2016 by method of self-harm. Clearly, if we want to stop people trying to kill themselves, then we should be far more concerned with poisoning than with firearms.\""
   ]
  },
  {
   "cell_type": "code",
   "execution_count": 50,
   "metadata": {
    "scrolled": true
   },
   "outputs": [
    {
     "data": {
      "text/plain": [
       "<seaborn.axisgrid.FacetGrid at 0x1de24acf2b0>"
      ]
     },
     "execution_count": 50,
     "metadata": {},
     "output_type": "execute_result"
    },
    {
     "data": {
      "image/png": "[encoded data removed]",
      "text/plain": [
       "<matplotlib.figure.Figure at 0x1de24acf7f0>"
      ]
     },
     "metadata": {},
     "output_type": "display_data"
    }
   ],
   "source": [
    "sns.factorplot(x='Method of Self Injury', y='Number of Attempts', data=self1, kind='bar',aspect=2)"
   ]
  },
  {
   "cell_type": "markdown",
   "metadata": {},
   "source": [
    "The deception tactic here is in the background grouping of the data. By eliminating the distinction between fatal and non-fatal suicides attempts the graph implies that targeting firearms is less likely to affect suicides. But the distinction between fatal and non-fatal is crucial because the entire reason for targeting firearms is that they are more lethal than other methods of self-harm."
   ]
  },
  {
   "cell_type": "markdown",
   "metadata": {},
   "source": [
    "## 2. More gun laws don't lead to lower rates of gun deaths "
   ]
  },
  {
   "cell_type": "markdown",
   "metadata": {},
   "source": [
    "Previous analysis of CDC gun deaths data and tracking of gun laws in all 50 states done by Michael Siegel actually did show an inverse relationship between gun laws and gun deaths. However since the comparison is being made from state to state, we can make use of the very different population densities, crime rates, etc that naturally result in variation and outliers to suggest no relationship at all."
   ]
  },
  {
   "cell_type": "markdown",
   "metadata": {},
   "source": [
    "### Data"
   ]
  },
  {
   "cell_type": "markdown",
   "metadata": {},
   "source": [
    "First the datasets need to be loaded in and combined. They can then be reduced down to only the essential columns, which are state based averages for gun laws and state based average gun death rate per 100,000 people. It is tempting to use raw numbers of gun deaths which would greatly impact the results because of the varying population sizes. But this is easily targeting when critiquing a graph on state to state comparisons. Using the rate will make the deception more convincing."
   ]
  },
  {
   "cell_type": "code",
   "execution_count": 51,
   "metadata": {},
   "outputs": [],
   "source": [
    "laws = pd.read_csv('State Gun Laws.csv')\n",
    "deaths = pd.read_csv('CDC_GunDeaths.csv')"
   ]
  },
  {
   "cell_type": "code",
   "execution_count": 52,
   "metadata": {},
   "outputs": [],
   "source": [
    "laws1 = laws[['state','year','lawtotal']]\n",
    "laws1.columns = ['State', 'Year', 'Laws']\n",
    "deaths1 = deaths.merge(laws1)\n",
    "abbr = pd.read_csv('state_table.csv') #state name abbreviations\n",
    "abbr = abbr[['name','abbreviation']]\n",
    "deaths1 = deaths1.merge(abbr,left_on='State',right_on='name')"
   ]
  },
  {
   "cell_type": "code",
   "execution_count": 53,
   "metadata": {},
   "outputs": [],
   "source": [
    "deaths2 = deaths1.groupby('abbreviation').mean().drop(['Crude Rate','Year','Population','Deaths'], axis=1)\n",
    "deaths2.columns = ['Avg Gun Death Rate','Average Number of Laws']\n",
    "deaths2.index.rename('State',inplace=True)"
   ]
  },
  {
   "cell_type": "code",
   "execution_count": 54,
   "metadata": {
    "scrolled": true
   },
   "outputs": [
    {
     "data": {
      "text/html": [
       "<div>\n",
       "<style scoped>\n",
       "    .dataframe tbody tr th:only-of-type {\n",
       "        vertical-align: middle;\n",
       "    }\n",
       "\n",
       "    .dataframe tbody tr th {\n",
       "        vertical-align: top;\n",
       "    }\n",
       "\n",
       "    .dataframe thead th {\n",
       "        text-align: right;\n",
       "    }\n",
       "</style>\n",
       "<table border=\"1\" class=\"dataframe\">\n",
       "  <thead>\n",
       "    <tr style=\"text-align: right;\">\n",
       "      <th></th>\n",
       "      <th>Avg Gun Death Rate</th>\n",
       "      <th>Average Number of Laws</th>\n",
       "    </tr>\n",
       "  </thead>\n",
       "  <tbody>\n",
       "    <tr>\n",
       "      <th>count</th>\n",
       "      <td>50.000000</td>\n",
       "      <td>50.000000</td>\n",
       "    </tr>\n",
       "    <tr>\n",
       "      <th>mean</th>\n",
       "      <td>11.204354</td>\n",
       "      <td>24.981250</td>\n",
       "    </tr>\n",
       "    <tr>\n",
       "      <th>std</th>\n",
       "      <td>4.031447</td>\n",
       "      <td>23.775732</td>\n",
       "    </tr>\n",
       "    <tr>\n",
       "      <th>min</th>\n",
       "      <td>3.081583</td>\n",
       "      <td>3.375000</td>\n",
       "    </tr>\n",
       "    <tr>\n",
       "      <th>25%</th>\n",
       "      <td>8.657635</td>\n",
       "      <td>9.968750</td>\n",
       "    </tr>\n",
       "    <tr>\n",
       "      <th>50%</th>\n",
       "      <td>10.966331</td>\n",
       "      <td>15.312500</td>\n",
       "    </tr>\n",
       "    <tr>\n",
       "      <th>75%</th>\n",
       "      <td>14.440939</td>\n",
       "      <td>28.062500</td>\n",
       "    </tr>\n",
       "    <tr>\n",
       "      <th>max</th>\n",
       "      <td>19.114728</td>\n",
       "      <td>100.000000</td>\n",
       "    </tr>\n",
       "  </tbody>\n",
       "</table>\n",
       "</div>"
      ],
      "text/plain": [
       "       Avg Gun Death Rate  Average Number of Laws\n",
       "count           50.000000               50.000000\n",
       "mean            11.204354               24.981250\n",
       "std              4.031447               23.775732\n",
       "min              3.081583                3.375000\n",
       "25%              8.657635                9.968750\n",
       "50%             10.966331               15.312500\n",
       "75%             14.440939               28.062500\n",
       "max             19.114728              100.000000"
      ]
     },
     "execution_count": 54,
     "metadata": {},
     "output_type": "execute_result"
    }
   ],
   "source": [
    "deaths2.describe()"
   ]
  },
  {
   "cell_type": "code",
   "execution_count": 55,
   "metadata": {
    "scrolled": true
   },
   "outputs": [
    {
     "data": {
      "text/html": [
       "<div>\n",
       "<style scoped>\n",
       "    .dataframe tbody tr th:only-of-type {\n",
       "        vertical-align: middle;\n",
       "    }\n",
       "\n",
       "    .dataframe tbody tr th {\n",
       "        vertical-align: top;\n",
       "    }\n",
       "\n",
       "    .dataframe thead th {\n",
       "        text-align: right;\n",
       "    }\n",
       "</style>\n",
       "<table border=\"1\" class=\"dataframe\">\n",
       "  <thead>\n",
       "    <tr style=\"text-align: right;\">\n",
       "      <th></th>\n",
       "      <th>Avg Gun Death Rate</th>\n",
       "      <th>Average Number of Laws</th>\n",
       "    </tr>\n",
       "    <tr>\n",
       "      <th>State</th>\n",
       "      <th></th>\n",
       "      <th></th>\n",
       "    </tr>\n",
       "  </thead>\n",
       "  <tbody>\n",
       "    <tr>\n",
       "      <th>VT</th>\n",
       "      <td>9.116153</td>\n",
       "      <td>3.3750</td>\n",
       "    </tr>\n",
       "    <tr>\n",
       "      <th>MT</th>\n",
       "      <td>15.930657</td>\n",
       "      <td>4.5000</td>\n",
       "    </tr>\n",
       "    <tr>\n",
       "      <th>AK</th>\n",
       "      <td>18.848418</td>\n",
       "      <td>5.0000</td>\n",
       "    </tr>\n",
       "    <tr>\n",
       "      <th>SD</th>\n",
       "      <td>9.555270</td>\n",
       "      <td>5.7500</td>\n",
       "    </tr>\n",
       "    <tr>\n",
       "      <th>ID</th>\n",
       "      <td>13.107533</td>\n",
       "      <td>5.8750</td>\n",
       "    </tr>\n",
       "    <tr>\n",
       "      <th>KY</th>\n",
       "      <td>13.713367</td>\n",
       "      <td>6.6875</td>\n",
       "    </tr>\n",
       "    <tr>\n",
       "      <th>MS</th>\n",
       "      <td>17.697853</td>\n",
       "      <td>7.4375</td>\n",
       "    </tr>\n",
       "    <tr>\n",
       "      <th>WY</th>\n",
       "      <td>16.330768</td>\n",
       "      <td>9.0625</td>\n",
       "    </tr>\n",
       "    <tr>\n",
       "      <th>LA</th>\n",
       "      <td>19.114728</td>\n",
       "      <td>9.0625</td>\n",
       "    </tr>\n",
       "    <tr>\n",
       "      <th>NM</th>\n",
       "      <td>15.641799</td>\n",
       "      <td>9.1875</td>\n",
       "    </tr>\n",
       "    <tr>\n",
       "      <th>OK</th>\n",
       "      <td>14.855435</td>\n",
       "      <td>9.3750</td>\n",
       "    </tr>\n",
       "    <tr>\n",
       "      <th>KS</th>\n",
       "      <td>10.950349</td>\n",
       "      <td>9.5000</td>\n",
       "    </tr>\n",
       "    <tr>\n",
       "      <th>MO</th>\n",
       "      <td>13.991561</td>\n",
       "      <td>9.9375</td>\n",
       "    </tr>\n",
       "    <tr>\n",
       "      <th>GA</th>\n",
       "      <td>13.124110</td>\n",
       "      <td>10.0625</td>\n",
       "    </tr>\n",
       "    <tr>\n",
       "      <th>IN</th>\n",
       "      <td>11.669927</td>\n",
       "      <td>10.1250</td>\n",
       "    </tr>\n",
       "    <tr>\n",
       "      <th>ME</th>\n",
       "      <td>8.269171</td>\n",
       "      <td>10.2500</td>\n",
       "    </tr>\n",
       "    <tr>\n",
       "      <th>NV</th>\n",
       "      <td>15.460076</td>\n",
       "      <td>10.5000</td>\n",
       "    </tr>\n",
       "    <tr>\n",
       "      <th>AL</th>\n",
       "      <td>17.112571</td>\n",
       "      <td>10.6875</td>\n",
       "    </tr>\n",
       "    <tr>\n",
       "      <th>UT</th>\n",
       "      <td>11.215682</td>\n",
       "      <td>11.0625</td>\n",
       "    </tr>\n",
       "    <tr>\n",
       "      <th>NH</th>\n",
       "      <td>7.032579</td>\n",
       "      <td>11.1875</td>\n",
       "    </tr>\n",
       "    <tr>\n",
       "      <th>AZ</th>\n",
       "      <td>15.057769</td>\n",
       "      <td>12.1250</td>\n",
       "    </tr>\n",
       "    <tr>\n",
       "      <th>AR</th>\n",
       "      <td>15.887746</td>\n",
       "      <td>12.5000</td>\n",
       "    </tr>\n",
       "    <tr>\n",
       "      <th>ND</th>\n",
       "      <td>9.500131</td>\n",
       "      <td>12.6250</td>\n",
       "    </tr>\n",
       "    <tr>\n",
       "      <th>VA</th>\n",
       "      <td>10.688609</td>\n",
       "      <td>12.6875</td>\n",
       "    </tr>\n",
       "    <tr>\n",
       "      <th>SC</th>\n",
       "      <td>14.540727</td>\n",
       "      <td>13.7500</td>\n",
       "    </tr>\n",
       "    <tr>\n",
       "      <th>OH</th>\n",
       "      <td>10.002347</td>\n",
       "      <td>16.8750</td>\n",
       "    </tr>\n",
       "    <tr>\n",
       "      <th>TX</th>\n",
       "      <td>10.965308</td>\n",
       "      <td>18.8750</td>\n",
       "    </tr>\n",
       "    <tr>\n",
       "      <th>TN</th>\n",
       "      <td>15.180676</td>\n",
       "      <td>19.3125</td>\n",
       "    </tr>\n",
       "    <tr>\n",
       "      <th>CO</th>\n",
       "      <td>11.614409</td>\n",
       "      <td>20.1250</td>\n",
       "    </tr>\n",
       "    <tr>\n",
       "      <th>WV</th>\n",
       "      <td>14.141575</td>\n",
       "      <td>20.7500</td>\n",
       "    </tr>\n",
       "    <tr>\n",
       "      <th>FL</th>\n",
       "      <td>11.521980</td>\n",
       "      <td>21.0625</td>\n",
       "    </tr>\n",
       "    <tr>\n",
       "      <th>IA</th>\n",
       "      <td>6.975949</td>\n",
       "      <td>21.5000</td>\n",
       "    </tr>\n",
       "    <tr>\n",
       "      <th>NE</th>\n",
       "      <td>8.254284</td>\n",
       "      <td>22.0625</td>\n",
       "    </tr>\n",
       "    <tr>\n",
       "      <th>MI</th>\n",
       "      <td>11.263629</td>\n",
       "      <td>22.5000</td>\n",
       "    </tr>\n",
       "    <tr>\n",
       "      <th>WI</th>\n",
       "      <td>8.578818</td>\n",
       "      <td>23.8125</td>\n",
       "    </tr>\n",
       "    <tr>\n",
       "      <th>OR</th>\n",
       "      <td>10.706413</td>\n",
       "      <td>25.2500</td>\n",
       "    </tr>\n",
       "    <tr>\n",
       "      <th>WA</th>\n",
       "      <td>9.019825</td>\n",
       "      <td>27.5000</td>\n",
       "    </tr>\n",
       "    <tr>\n",
       "      <th>DE</th>\n",
       "      <td>9.674386</td>\n",
       "      <td>28.2500</td>\n",
       "    </tr>\n",
       "    <tr>\n",
       "      <th>NC</th>\n",
       "      <td>12.384678</td>\n",
       "      <td>28.3750</td>\n",
       "    </tr>\n",
       "    <tr>\n",
       "      <th>MN</th>\n",
       "      <td>6.837449</td>\n",
       "      <td>32.8750</td>\n",
       "    </tr>\n",
       "    <tr>\n",
       "      <th>PA</th>\n",
       "      <td>10.626884</td>\n",
       "      <td>35.2500</td>\n",
       "    </tr>\n",
       "    <tr>\n",
       "      <th>RI</th>\n",
       "      <td>4.060903</td>\n",
       "      <td>44.6250</td>\n",
       "    </tr>\n",
       "    <tr>\n",
       "      <th>MD</th>\n",
       "      <td>10.967353</td>\n",
       "      <td>56.4375</td>\n",
       "    </tr>\n",
       "    <tr>\n",
       "      <th>IL</th>\n",
       "      <td>8.894086</td>\n",
       "      <td>61.8750</td>\n",
       "    </tr>\n",
       "    <tr>\n",
       "      <th>NJ</th>\n",
       "      <td>5.229859</td>\n",
       "      <td>63.9375</td>\n",
       "    </tr>\n",
       "    <tr>\n",
       "      <th>NY</th>\n",
       "      <td>4.880350</td>\n",
       "      <td>64.8125</td>\n",
       "    </tr>\n",
       "    <tr>\n",
       "      <th>HI</th>\n",
       "      <td>3.081583</td>\n",
       "      <td>72.9375</td>\n",
       "    </tr>\n",
       "    <tr>\n",
       "      <th>CT</th>\n",
       "      <td>5.081774</td>\n",
       "      <td>72.9375</td>\n",
       "    </tr>\n",
       "    <tr>\n",
       "      <th>CA</th>\n",
       "      <td>8.542897</td>\n",
       "      <td>94.8125</td>\n",
       "    </tr>\n",
       "    <tr>\n",
       "      <th>MA</th>\n",
       "      <td>3.317302</td>\n",
       "      <td>100.0000</td>\n",
       "    </tr>\n",
       "  </tbody>\n",
       "</table>\n",
       "</div>"
      ],
      "text/plain": [
       "       Avg Gun Death Rate  Average Number of Laws\n",
       "State                                            \n",
       "VT               9.116153                  3.3750\n",
       "MT              15.930657                  4.5000\n",
       "AK              18.848418                  5.0000\n",
       "SD               9.555270                  5.7500\n",
       "ID              13.107533                  5.8750\n",
       "KY              13.713367                  6.6875\n",
       "MS              17.697853                  7.4375\n",
       "WY              16.330768                  9.0625\n",
       "LA              19.114728                  9.0625\n",
       "NM              15.641799                  9.1875\n",
       "OK              14.855435                  9.3750\n",
       "KS              10.950349                  9.5000\n",
       "MO              13.991561                  9.9375\n",
       "GA              13.124110                 10.0625\n",
       "IN              11.669927                 10.1250\n",
       "ME               8.269171                 10.2500\n",
       "NV              15.460076                 10.5000\n",
       "AL              17.112571                 10.6875\n",
       "UT              11.215682                 11.0625\n",
       "NH               7.032579                 11.1875\n",
       "AZ              15.057769                 12.1250\n",
       "AR              15.887746                 12.5000\n",
       "ND               9.500131                 12.6250\n",
       "VA              10.688609                 12.6875\n",
       "SC              14.540727                 13.7500\n",
       "OH              10.002347                 16.8750\n",
       "TX              10.965308                 18.8750\n",
       "TN              15.180676                 19.3125\n",
       "CO              11.614409                 20.1250\n",
       "WV              14.141575                 20.7500\n",
       "FL              11.521980                 21.0625\n",
       "IA               6.975949                 21.5000\n",
       "NE               8.254284                 22.0625\n",
       "MI              11.263629                 22.5000\n",
       "WI               8.578818                 23.8125\n",
       "OR              10.706413                 25.2500\n",
       "WA               9.019825                 27.5000\n",
       "DE               9.674386                 28.2500\n",
       "NC              12.384678                 28.3750\n",
       "MN               6.837449                 32.8750\n",
       "PA              10.626884                 35.2500\n",
       "RI               4.060903                 44.6250\n",
       "MD              10.967353                 56.4375\n",
       "IL               8.894086                 61.8750\n",
       "NJ               5.229859                 63.9375\n",
       "NY               4.880350                 64.8125\n",
       "HI               3.081583                 72.9375\n",
       "CT               5.081774                 72.9375\n",
       "CA               8.542897                 94.8125\n",
       "MA               3.317302                100.0000"
      ]
     },
     "execution_count": 55,
     "metadata": {},
     "output_type": "execute_result"
    }
   ],
   "source": [
    "deaths2.sort_values(by='Average Number of Laws')"
   ]
  },
  {
   "cell_type": "code",
   "execution_count": 56,
   "metadata": {},
   "outputs": [],
   "source": [
    "deaths3 = deaths2[(deaths2['Avg Gun Death Rate'] > 8) & (deaths2['Avg Gun Death Rate'] < 11) & \\\n",
    "                  (deaths2['Average Number of Laws'] < 30)].reset_index()"
   ]
  },
  {
   "cell_type": "code",
   "execution_count": 57,
   "metadata": {},
   "outputs": [
    {
     "data": {
      "text/html": [
       "<div>\n",
       "<style scoped>\n",
       "    .dataframe tbody tr th:only-of-type {\n",
       "        vertical-align: middle;\n",
       "    }\n",
       "\n",
       "    .dataframe tbody tr th {\n",
       "        vertical-align: top;\n",
       "    }\n",
       "\n",
       "    .dataframe thead th {\n",
       "        text-align: right;\n",
       "    }\n",
       "</style>\n",
       "<table border=\"1\" class=\"dataframe\">\n",
       "  <thead>\n",
       "    <tr style=\"text-align: right;\">\n",
       "      <th></th>\n",
       "      <th>Avg Gun Death Rate</th>\n",
       "      <th>Average Number of Laws</th>\n",
       "    </tr>\n",
       "    <tr>\n",
       "      <th>State</th>\n",
       "      <th></th>\n",
       "      <th></th>\n",
       "    </tr>\n",
       "  </thead>\n",
       "  <tbody>\n",
       "    <tr>\n",
       "      <th>CA</th>\n",
       "      <td>8.542897</td>\n",
       "      <td>94.8125</td>\n",
       "    </tr>\n",
       "    <tr>\n",
       "      <th>DE</th>\n",
       "      <td>9.674386</td>\n",
       "      <td>28.2500</td>\n",
       "    </tr>\n",
       "    <tr>\n",
       "      <th>IL</th>\n",
       "      <td>8.894086</td>\n",
       "      <td>61.8750</td>\n",
       "    </tr>\n",
       "    <tr>\n",
       "      <th>KS</th>\n",
       "      <td>10.950349</td>\n",
       "      <td>9.5000</td>\n",
       "    </tr>\n",
       "    <tr>\n",
       "      <th>MD</th>\n",
       "      <td>10.967353</td>\n",
       "      <td>56.4375</td>\n",
       "    </tr>\n",
       "    <tr>\n",
       "      <th>ME</th>\n",
       "      <td>8.269171</td>\n",
       "      <td>10.2500</td>\n",
       "    </tr>\n",
       "    <tr>\n",
       "      <th>ND</th>\n",
       "      <td>9.500131</td>\n",
       "      <td>12.6250</td>\n",
       "    </tr>\n",
       "    <tr>\n",
       "      <th>NE</th>\n",
       "      <td>8.254284</td>\n",
       "      <td>22.0625</td>\n",
       "    </tr>\n",
       "    <tr>\n",
       "      <th>OH</th>\n",
       "      <td>10.002347</td>\n",
       "      <td>16.8750</td>\n",
       "    </tr>\n",
       "    <tr>\n",
       "      <th>OR</th>\n",
       "      <td>10.706413</td>\n",
       "      <td>25.2500</td>\n",
       "    </tr>\n",
       "    <tr>\n",
       "      <th>PA</th>\n",
       "      <td>10.626884</td>\n",
       "      <td>35.2500</td>\n",
       "    </tr>\n",
       "    <tr>\n",
       "      <th>SD</th>\n",
       "      <td>9.555270</td>\n",
       "      <td>5.7500</td>\n",
       "    </tr>\n",
       "    <tr>\n",
       "      <th>TX</th>\n",
       "      <td>10.965308</td>\n",
       "      <td>18.8750</td>\n",
       "    </tr>\n",
       "    <tr>\n",
       "      <th>VA</th>\n",
       "      <td>10.688609</td>\n",
       "      <td>12.6875</td>\n",
       "    </tr>\n",
       "    <tr>\n",
       "      <th>VT</th>\n",
       "      <td>9.116153</td>\n",
       "      <td>3.3750</td>\n",
       "    </tr>\n",
       "    <tr>\n",
       "      <th>WA</th>\n",
       "      <td>9.019825</td>\n",
       "      <td>27.5000</td>\n",
       "    </tr>\n",
       "    <tr>\n",
       "      <th>WI</th>\n",
       "      <td>8.578818</td>\n",
       "      <td>23.8125</td>\n",
       "    </tr>\n",
       "  </tbody>\n",
       "</table>\n",
       "</div>"
      ],
      "text/plain": [
       "       Avg Gun Death Rate  Average Number of Laws\n",
       "State                                            \n",
       "CA               8.542897                 94.8125\n",
       "DE               9.674386                 28.2500\n",
       "IL               8.894086                 61.8750\n",
       "KS              10.950349                  9.5000\n",
       "MD              10.967353                 56.4375\n",
       "ME               8.269171                 10.2500\n",
       "ND               9.500131                 12.6250\n",
       "NE               8.254284                 22.0625\n",
       "OH              10.002347                 16.8750\n",
       "OR              10.706413                 25.2500\n",
       "PA              10.626884                 35.2500\n",
       "SD               9.555270                  5.7500\n",
       "TX              10.965308                 18.8750\n",
       "VA              10.688609                 12.6875\n",
       "VT               9.116153                  3.3750\n",
       "WA               9.019825                 27.5000\n",
       "WI               8.578818                 23.8125"
      ]
     },
     "execution_count": 57,
     "metadata": {},
     "output_type": "execute_result"
    }
   ],
   "source": [
    "deaths4 = deaths2[(deaths2['Avg Gun Death Rate'] > 8) & (deaths2['Avg Gun Death Rate'] < 11)]\n",
    "deaths4"
   ]
  },
  {
   "cell_type": "markdown",
   "metadata": {},
   "source": [
    "### Graphs and Interpretation"
   ]
  },
  {
   "cell_type": "markdown",
   "metadata": {},
   "source": [
    "\"Despite dramatic changes in the average number of laws in a state, the gun death rate remains consistent. More laws will not change the gun death rates.\"\n",
    "\n",
    "This graph is pulling out a selective range of data to provide the best contrast between the rates of gun deaths and the numbers of laws. In addition, by using the same axis, any significant variation in the gun death rate is completely swamped by the large number of laws."
   ]
  },
  {
   "cell_type": "code",
   "execution_count": 58,
   "metadata": {
    "scrolled": true
   },
   "outputs": [
    {
     "data": {
      "text/plain": [
       "<matplotlib.axes._subplots.AxesSubplot at 0x1de24b57630>"
      ]
     },
     "execution_count": 58,
     "metadata": {},
     "output_type": "execute_result"
    },
    {
     "data": {
      "image/png": "[encoded data removed]",
      "text/plain": [
       "<matplotlib.figure.Figure at 0x1de24b55080>"
      ]
     },
     "metadata": {},
     "output_type": "display_data"
    }
   ],
   "source": [
    "deaths4.plot()"
   ]
  },
  {
   "cell_type": "markdown",
   "metadata": {},
   "source": [
    "## 3. More gun owners does not mean more suicides"
   ]
  },
  {
   "cell_type": "markdown",
   "metadata": {},
   "source": [
    "In an earlier piece, using the data from the CDC and Kalesan, et al I demonstrated that higher rates of gun ownership do in fact correlate with more suicides by gun, whereas there is no relationship between the ownership rates and rates of suicide by non-firearm means. But a more selective look at the data can reveal a different scenario."
   ]
  },
  {
   "cell_type": "markdown",
   "metadata": {},
   "source": [
    "### Data"
   ]
  },
  {
   "cell_type": "markdown",
   "metadata": {},
   "source": [
    "In this data, I am looking to collect as many data points as possible so I can eventually narrow in on a middle zone where suicide rates don't appear to change. I'm also making sure I'm looking at the overall suicide rates, not divided by method of suicide so that I introduce more noise."
   ]
  },
  {
   "cell_type": "code",
   "execution_count": 59,
   "metadata": {},
   "outputs": [],
   "source": [
    "own = pd.read_csv('State Gun Ownership Rate 2013.csv')\n",
    "suicides = pd.read_csv('CDC_Suicides.csv')"
   ]
  },
  {
   "cell_type": "code",
   "execution_count": 60,
   "metadata": {
    "scrolled": true
   },
   "outputs": [
    {
     "data": {
      "text/html": [
       "<div>\n",
       "<style scoped>\n",
       "    .dataframe tbody tr th:only-of-type {\n",
       "        vertical-align: middle;\n",
       "    }\n",
       "\n",
       "    .dataframe tbody tr th {\n",
       "        vertical-align: top;\n",
       "    }\n",
       "\n",
       "    .dataframe thead th {\n",
       "        text-align: right;\n",
       "    }\n",
       "</style>\n",
       "<table border=\"1\" class=\"dataframe\">\n",
       "  <thead>\n",
       "    <tr style=\"text-align: right;\">\n",
       "      <th></th>\n",
       "      <th>State</th>\n",
       "      <th>Year</th>\n",
       "      <th>Population</th>\n",
       "      <th>Fdeaths</th>\n",
       "      <th>FCrude Rate</th>\n",
       "      <th>FAge Adjusted Rate</th>\n",
       "      <th>NFDeaths</th>\n",
       "      <th>NFCrude Rate</th>\n",
       "      <th>NFAge Adjusted Rate</th>\n",
       "      <th>Ownership Ratio</th>\n",
       "      <th>2001 Low</th>\n",
       "      <th>2001 High</th>\n",
       "    </tr>\n",
       "  </thead>\n",
       "  <tbody>\n",
       "    <tr>\n",
       "      <th>0</th>\n",
       "      <td>Alabama</td>\n",
       "      <td>2001</td>\n",
       "      <td>4467634</td>\n",
       "      <td>387</td>\n",
       "      <td>8.66230</td>\n",
       "      <td>8.56569</td>\n",
       "      <td>125</td>\n",
       "      <td>2.79790</td>\n",
       "      <td>2.81160</td>\n",
       "      <td>0.489</td>\n",
       "      <td>0</td>\n",
       "      <td>1</td>\n",
       "    </tr>\n",
       "    <tr>\n",
       "      <th>1</th>\n",
       "      <td>Alabama</td>\n",
       "      <td>2002</td>\n",
       "      <td>4480089</td>\n",
       "      <td>381</td>\n",
       "      <td>8.50430</td>\n",
       "      <td>8.45582</td>\n",
       "      <td>133</td>\n",
       "      <td>2.96869</td>\n",
       "      <td>3.01729</td>\n",
       "      <td>0.489</td>\n",
       "      <td>0</td>\n",
       "      <td>1</td>\n",
       "    </tr>\n",
       "    <tr>\n",
       "      <th>2</th>\n",
       "      <td>Alabama</td>\n",
       "      <td>2003</td>\n",
       "      <td>4503491</td>\n",
       "      <td>399</td>\n",
       "      <td>8.85979</td>\n",
       "      <td>8.71749</td>\n",
       "      <td>122</td>\n",
       "      <td>2.70901</td>\n",
       "      <td>2.73791</td>\n",
       "      <td>0.489</td>\n",
       "      <td>0</td>\n",
       "      <td>1</td>\n",
       "    </tr>\n",
       "    <tr>\n",
       "      <th>3</th>\n",
       "      <td>Alabama</td>\n",
       "      <td>2004</td>\n",
       "      <td>4530729</td>\n",
       "      <td>375</td>\n",
       "      <td>8.27681</td>\n",
       "      <td>8.02271</td>\n",
       "      <td>166</td>\n",
       "      <td>3.66387</td>\n",
       "      <td>3.71584</td>\n",
       "      <td>0.489</td>\n",
       "      <td>0</td>\n",
       "      <td>1</td>\n",
       "    </tr>\n",
       "    <tr>\n",
       "      <th>4</th>\n",
       "      <td>Alabama</td>\n",
       "      <td>2005</td>\n",
       "      <td>4569805</td>\n",
       "      <td>369</td>\n",
       "      <td>8.07474</td>\n",
       "      <td>7.84921</td>\n",
       "      <td>166</td>\n",
       "      <td>3.63254</td>\n",
       "      <td>3.68095</td>\n",
       "      <td>0.489</td>\n",
       "      <td>0</td>\n",
       "      <td>1</td>\n",
       "    </tr>\n",
       "  </tbody>\n",
       "</table>\n",
       "</div>"
      ],
      "text/plain": [
       "     State  Year  Population  Fdeaths  FCrude Rate  FAge Adjusted Rate  \\\n",
       "0  Alabama  2001     4467634      387      8.66230             8.56569   \n",
       "1  Alabama  2002     4480089      381      8.50430             8.45582   \n",
       "2  Alabama  2003     4503491      399      8.85979             8.71749   \n",
       "3  Alabama  2004     4530729      375      8.27681             8.02271   \n",
       "4  Alabama  2005     4569805      369      8.07474             7.84921   \n",
       "\n",
       "   NFDeaths  NFCrude Rate  NFAge Adjusted Rate  Ownership Ratio  2001 Low  \\\n",
       "0       125       2.79790              2.81160            0.489         0   \n",
       "1       133       2.96869              3.01729            0.489         0   \n",
       "2       122       2.70901              2.73791            0.489         0   \n",
       "3       166       3.66387              3.71584            0.489         0   \n",
       "4       166       3.63254              3.68095            0.489         0   \n",
       "\n",
       "   2001 High  \n",
       "0          1  \n",
       "1          1  \n",
       "2          1  \n",
       "3          1  \n",
       "4          1  "
      ]
     },
     "execution_count": 60,
     "metadata": {},
     "output_type": "execute_result"
    }
   ],
   "source": [
    "own.drop(['Year','Population'],axis=1, inplace=True)\n",
    "suicides1 = suicides.merge(own, how='left')\n",
    "suicides1.head()"
   ]
  },
  {
   "cell_type": "code",
   "execution_count": 61,
   "metadata": {},
   "outputs": [
    {
     "data": {
      "text/html": [
       "<div>\n",
       "<style scoped>\n",
       "    .dataframe tbody tr th:only-of-type {\n",
       "        vertical-align: middle;\n",
       "    }\n",
       "\n",
       "    .dataframe tbody tr th {\n",
       "        vertical-align: top;\n",
       "    }\n",
       "\n",
       "    .dataframe thead th {\n",
       "        text-align: right;\n",
       "    }\n",
       "</style>\n",
       "<table border=\"1\" class=\"dataframe\">\n",
       "  <thead>\n",
       "    <tr style=\"text-align: right;\">\n",
       "      <th></th>\n",
       "      <th>Ownership Ratio</th>\n",
       "      <th>2001 Low</th>\n",
       "      <th>2001 High</th>\n",
       "    </tr>\n",
       "  </thead>\n",
       "  <tbody>\n",
       "    <tr>\n",
       "      <th>count</th>\n",
       "      <td>51.000000</td>\n",
       "      <td>51.000000</td>\n",
       "      <td>51.000000</td>\n",
       "    </tr>\n",
       "    <tr>\n",
       "      <th>mean</th>\n",
       "      <td>0.324980</td>\n",
       "      <td>0.117647</td>\n",
       "      <td>0.294118</td>\n",
       "    </tr>\n",
       "    <tr>\n",
       "      <th>std</th>\n",
       "      <td>0.129952</td>\n",
       "      <td>0.325396</td>\n",
       "      <td>0.460179</td>\n",
       "    </tr>\n",
       "    <tr>\n",
       "      <th>min</th>\n",
       "      <td>0.052000</td>\n",
       "      <td>0.000000</td>\n",
       "      <td>0.000000</td>\n",
       "    </tr>\n",
       "    <tr>\n",
       "      <th>25%</th>\n",
       "      <td>0.260500</td>\n",
       "      <td>0.000000</td>\n",
       "      <td>0.000000</td>\n",
       "    </tr>\n",
       "    <tr>\n",
       "      <th>50%</th>\n",
       "      <td>0.322000</td>\n",
       "      <td>0.000000</td>\n",
       "      <td>0.000000</td>\n",
       "    </tr>\n",
       "    <tr>\n",
       "      <th>75%</th>\n",
       "      <td>0.409000</td>\n",
       "      <td>0.000000</td>\n",
       "      <td>1.000000</td>\n",
       "    </tr>\n",
       "    <tr>\n",
       "      <th>max</th>\n",
       "      <td>0.617000</td>\n",
       "      <td>1.000000</td>\n",
       "      <td>1.000000</td>\n",
       "    </tr>\n",
       "  </tbody>\n",
       "</table>\n",
       "</div>"
      ],
      "text/plain": [
       "       Ownership Ratio   2001 Low  2001 High\n",
       "count        51.000000  51.000000  51.000000\n",
       "mean          0.324980   0.117647   0.294118\n",
       "std           0.129952   0.325396   0.460179\n",
       "min           0.052000   0.000000   0.000000\n",
       "25%           0.260500   0.000000   0.000000\n",
       "50%           0.322000   0.000000   0.000000\n",
       "75%           0.409000   0.000000   1.000000\n",
       "max           0.617000   1.000000   1.000000"
      ]
     },
     "execution_count": 61,
     "metadata": {},
     "output_type": "execute_result"
    }
   ],
   "source": [
    "own.describe()"
   ]
  },
  {
   "cell_type": "code",
   "execution_count": 62,
   "metadata": {},
   "outputs": [],
   "source": [
    "suicides1['Suicide Rate'] = suicides1['FAge Adjusted Rate'] + suicides1['NFAge Adjusted Rate']\n",
    "suicides1['Suicides'] = suicides1['Fdeaths'] + suicides1['NFDeaths']"
   ]
  },
  {
   "cell_type": "code",
   "execution_count": 63,
   "metadata": {},
   "outputs": [
    {
     "data": {
      "text/plain": [
       "<seaborn.axisgrid.FacetGrid at 0x1de24bee2b0>"
      ]
     },
     "execution_count": 63,
     "metadata": {},
     "output_type": "execute_result"
    },
    {
     "data": {
      "image/png": "[encoded data removed]",
      "text/plain": [
       "<matplotlib.figure.Figure at 0x1de24bee470>"
      ]
     },
     "metadata": {},
     "output_type": "display_data"
    }
   ],
   "source": [
    "sns.factorplot(x='Ownership Ratio', y='Suicide Rate', kind='point', data=suicides1, aspect=3)"
   ]
  },
  {
   "cell_type": "code",
   "execution_count": 64,
   "metadata": {},
   "outputs": [],
   "source": [
    "suicides2 = suicides1[(suicides1['Ownership Ratio'] > .27) & (suicides1['Ownership Ratio'] < .35)] "
   ]
  },
  {
   "cell_type": "code",
   "execution_count": 65,
   "metadata": {},
   "outputs": [
    {
     "data": {
      "text/plain": [
       "18"
      ]
     },
     "execution_count": 65,
     "metadata": {},
     "output_type": "execute_result"
    }
   ],
   "source": [
    "len(suicides2.groupby('State').mean())"
   ]
  },
  {
   "cell_type": "markdown",
   "metadata": {},
   "source": [
    "### Graphs and Interpretation"
   ]
  },
  {
   "cell_type": "markdown",
   "metadata": {},
   "source": [
    "\"This graph shows that there is suicide rates per 100,000 vary greatly even among similar rates of gun ownership. Restricting gun ownership would not affect suicide rates.\"\n",
    "\n",
    "Here you can see that I've narrowed in on a small ban of ownership ratios that really only represents about 18 states. The truncated axis further helps exagerate the differences in the rates so that the volatility looks more extreme than it necessarily is. Additional work will need to be done to clean up the axis data and provide more overall information."
   ]
  },
  {
   "cell_type": "code",
   "execution_count": 66,
   "metadata": {
    "scrolled": false
   },
   "outputs": [
    {
     "data": {
      "text/plain": [
       "<seaborn.axisgrid.FacetGrid at 0x1de25cb8a58>"
      ]
     },
     "execution_count": 66,
     "metadata": {},
     "output_type": "execute_result"
    },
    {
     "data": {
      "image/png": "[encoded data removed]",
      "text/plain": [
       "<matplotlib.figure.Figure at 0x1de24b3b860>"
      ]
     },
     "metadata": {},
     "output_type": "display_data"
    }
   ],
   "source": [
    "sns.factorplot(x='Ownership Ratio', y='Suicide Rate', kind='point', data=suicides2, aspect=3)"
   ]
  },
  {
   "cell_type": "markdown",
   "metadata": {},
   "source": [
    "## References"
   ]
  },
  {
   "cell_type": "markdown",
   "metadata": {},
   "source": [
    "CDC National Center for Health Statistics (NCHS). Underlying Cause of Death 1999-2016. Saved request: https://wonder.cdc.gov/controller/saved/D76/D35F899\n",
    "\n",
    "CDC National Center for Injury Prevention and Control. WISQARS™ (Web-based Injury Statistics Query and Reporting System). https://www.cdc.gov/injury/wisqars/index.html\n",
    "\n",
    "Kalesan B, Villarreal MD, Keyes KM, et al Gun ownership and social gun culture Injury Prevention 2016;22:216-220. http://dx.doi.org/10.1136/injuryprev-2015-041586\n",
    "\n",
    "Lopez, George. \"America’s unique gun violence problem, explained in 17 maps and charts.\" Vox.com. Accessed May 5, 2018.\n",
    "https://www.vox.com/policy-and-politics/2017/10/2/16399418/us-gun-violence-statistics-maps-charts\n",
    "\n",
    "Miller, Matthew, M.D., Sc.D., and David Hemenway, Ph.D. Guns and Suicide in the United States. N Engl J Med 2008; 359:989-991. September 4, 2008. DOI: 10.1056/NEJMp0805923\n",
    "\n",
    "Siegel, Michael. State Firearm Laws. State Laws by Year. Accessed May 5, 2018. https://www.statefirearmlaws.org/table.html\n",
    "CDC National Center for Health Statistics (NCHS). Underlying Cause of Death 1999-2016. Saved request: https://wonder.cdc.gov/controller/saved/D76/D35F901\n"
   ]
  }
 ],
 "metadata": {
  "kernelspec": {
   "display_name": "Python 3",
   "language": "python",
   "name": "python3"
  },
  "language_info": {
   "codemirror_mode": {
    "name": "ipython",
    "version": 3
   },
   "file_extension": ".py",
   "mimetype": "text/x-python",
   "name": "python",
   "nbconvert_exporter": "python",
   "pygments_lexer": "ipython3",
   "version": "3.6.4"
  }
 },
 "nbformat": 4,
 "nbformat_minor": 2
}
